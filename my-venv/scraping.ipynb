{
 "cells": [
  {
   "cell_type": "code",
   "execution_count": null,
   "metadata": {},
   "outputs": [],
   "source": [
    "import requests\n",
    "from bs4 import BeautifulSoup\n",
    "\n",
    "\n",
    "headers = {\n",
    "    'User-Agent': 'Mozilla/5.0 (Windows NT 10.0; Win64; x64) AppleWebKit/537.36 (KHTML, like Gecko) Chrome/74.0.3729.169 Safari/537.36'\n",
    "};\n",
    "page = requests.get('http://www.cubadebate.cu/categoria/noticias/', headers=headers)\n",
    "page\n",
    "page.content\n",
    "soup = BeautifulSoup(page.content, 'html.parser')\n",
    "t=soup.title.string\n",
    "div_t = soup.find_all('div', class_=('title'))\n",
    "div_c = soup.find_all('div', class_=('excerpt'))\n",
    "\n",
    "cant=((len(div_t+div_c))/2)\n",
    "print()\n",
    "print(t)\n",
    "print()\n",
    "print('Hay '+str(cant)+' noticias publicadas.')\n",
    "print()\n",
    "for i in soup.find_all('div', class_=('title','excerpt')):\n",
    "        print(i.get_text())\n",
    "        print()"
   ]
  }
 ],
 "metadata": {
  "kernelspec": {
   "display_name": "Python 3",
   "language": "python",
   "name": "python3"
  },
  "language_info": {
   "codemirror_mode": {
    "name": "ipython",
    "version": 3
   },
   "file_extension": ".py",
   "mimetype": "text/x-python",
   "name": "python",
   "nbconvert_exporter": "python",
   "pygments_lexer": "ipython3",
   "version": "3.8.3"
  }
 },
 "nbformat": 4,
 "nbformat_minor": 4
}
